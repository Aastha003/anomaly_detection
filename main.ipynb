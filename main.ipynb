{
 "cells": [
  {
   "cell_type": "code",
   "execution_count": null,
   "id": "d3e74d97",
   "metadata": {},
   "outputs": [
    {
     "name": "stdout",
     "output_type": "stream",
     "text": [
      " * Serving Flask app \"app\" (lazy loading)\n",
      " * Environment: production\n",
      "\u001b[31m   WARNING: This is a development server. Do not use it in a production deployment.\u001b[0m\n",
      "\u001b[2m   Use a production WSGI server instead.\u001b[0m\n",
      " * Debug mode: off\n"
     ]
    },
    {
     "name": "stderr",
     "output_type": "stream",
     "text": [
      " * Running on http://127.0.0.1:5000/ (Press CTRL+C to quit)\n",
      "127.0.0.1 - - [25/Aug/2022 14:18:30] \"GET / HTTP/1.1\" 200 -\n",
      "127.0.0.1 - - [25/Aug/2022 14:18:41] \"POST / HTTP/1.1\" 413 -\n"
     ]
    }
   ],
   "source": [
    "#%%writefile main.py\n",
    "\n",
    "import os\n",
    "from app import app\n",
    "import urllib.request\n",
    "from flask import Flask, flash, request, redirect, url_for, render_template\n",
    "from werkzeug.utils import secure_filename\n",
    "\n",
    "@app.route('/')\n",
    "def upload_form():\n",
    "    return render_template('upload.html')\n",
    "\n",
    "@app.route('/', methods=['POST'])\n",
    "def upload_video():\n",
    "    if 'file' not in request.files:\n",
    "        flash('No file part')\n",
    "        return redirect(request.url)\n",
    "    file = request.files['file']\n",
    "    if file.filename == '':\n",
    "        flash('No image selected for uploading')\n",
    "        return redirect(request.url)\n",
    "    else:\n",
    "        filename = secure_filename(file.filename)\n",
    "        file.save(os.path.join(app.config['UPLOAD_FOLDER'], filename))\n",
    "        #print('upload_video filename: ' + filename)\n",
    "        flash('Video successfully uploaded and displayed below')\n",
    "        return render_template('upload.html', filename=filename)\n",
    "\n",
    "@app.route('/display/<filename>')\n",
    "def display_video(filename):\n",
    "    #print('display_video filename: ' + filename)\n",
    "    return redirect(url_for(app.config['UPLOAD_FOLDER'], filename= filename), code=301)\n",
    "\n",
    "if __name__ == \"__main__\":\n",
    "    app.run()"
   ]
  },
  {
   "cell_type": "code",
   "execution_count": null,
   "id": "281334f6",
   "metadata": {},
   "outputs": [],
   "source": []
  }
 ],
 "metadata": {
  "kernelspec": {
   "display_name": "Python 3 (ipykernel)",
   "language": "python",
   "name": "python3"
  },
  "language_info": {
   "codemirror_mode": {
    "name": "ipython",
    "version": 3
   },
   "file_extension": ".py",
   "mimetype": "text/x-python",
   "name": "python",
   "nbconvert_exporter": "python",
   "pygments_lexer": "ipython3",
   "version": "3.9.7"
  }
 },
 "nbformat": 4,
 "nbformat_minor": 5
}
